{
  "nbformat": 4,
  "nbformat_minor": 0,
  "metadata": {
    "colab": {
      "name": "Hotel booking demand - Kaggle.ipynb",
      "provenance": [],
      "authorship_tag": "ABX9TyOc7r8XowgEmQczU4rbCiUL",
      "include_colab_link": true
    },
    "kernelspec": {
      "name": "python3",
      "display_name": "Python 3"
    },
    "language_info": {
      "name": "python"
    }
  },
  "cells": [
    {
      "cell_type": "markdown",
      "metadata": {
        "id": "view-in-github",
        "colab_type": "text"
      },
      "source": [
        "<a href=\"https://colab.research.google.com/github/gabrielbchacon/Hotel-booking-demand/blob/main/Hotel_booking_demand_Kaggle.ipynb\" target=\"_parent\"><img src=\"https://colab.research.google.com/assets/colab-badge.svg\" alt=\"Open In Colab\"/></a>"
      ]
    },
    {
      "cell_type": "markdown",
      "metadata": {
        "id": "FN-49fb81Km4"
      },
      "source": [
        "## Importing Libs\n"
      ]
    },
    {
      "cell_type": "code",
      "metadata": {
        "id": "1Yvp3B3IzuHA"
      },
      "source": [
        "import os\n",
        "import numpy as np\n",
        "import pandas as pd\n",
        "import matplotlib.pyplot as plt \n",
        "import seaborn as sns \n",
        "\n",
        "from sklearn.linear_model import LinearRegression\n",
        "from sklearn.linear_model import LogisticRegression"
      ],
      "execution_count": 1,
      "outputs": []
    },
    {
      "cell_type": "code",
      "metadata": {
        "colab": {
          "base_uri": "https://localhost:8080/",
          "height": 313
        },
        "id": "8l6fDkL01SD9",
        "outputId": "01802706-0db6-463f-e849-874e6e361db6"
      },
      "source": [
        "df = pd.read_csv('hotel_bookings.csv')\n",
        "df.head()"
      ],
      "execution_count": 2,
      "outputs": [
        {
          "output_type": "execute_result",
          "data": {
            "text/html": [
              "<div>\n",
              "<style scoped>\n",
              "    .dataframe tbody tr th:only-of-type {\n",
              "        vertical-align: middle;\n",
              "    }\n",
              "\n",
              "    .dataframe tbody tr th {\n",
              "        vertical-align: top;\n",
              "    }\n",
              "\n",
              "    .dataframe thead th {\n",
              "        text-align: right;\n",
              "    }\n",
              "</style>\n",
              "<table border=\"1\" class=\"dataframe\">\n",
              "  <thead>\n",
              "    <tr style=\"text-align: right;\">\n",
              "      <th></th>\n",
              "      <th>hotel</th>\n",
              "      <th>is_canceled</th>\n",
              "      <th>lead_time</th>\n",
              "      <th>arrival_date_year</th>\n",
              "      <th>arrival_date_month</th>\n",
              "      <th>arrival_date_week_number</th>\n",
              "      <th>arrival_date_day_of_month</th>\n",
              "      <th>stays_in_weekend_nights</th>\n",
              "      <th>stays_in_week_nights</th>\n",
              "      <th>adults</th>\n",
              "      <th>children</th>\n",
              "      <th>babies</th>\n",
              "      <th>meal</th>\n",
              "      <th>country</th>\n",
              "      <th>market_segment</th>\n",
              "      <th>distribution_channel</th>\n",
              "      <th>is_repeated_guest</th>\n",
              "      <th>previous_cancellations</th>\n",
              "      <th>previous_bookings_not_canceled</th>\n",
              "      <th>reserved_room_type</th>\n",
              "      <th>assigned_room_type</th>\n",
              "      <th>booking_changes</th>\n",
              "      <th>deposit_type</th>\n",
              "      <th>agent</th>\n",
              "      <th>company</th>\n",
              "      <th>days_in_waiting_list</th>\n",
              "      <th>customer_type</th>\n",
              "      <th>adr</th>\n",
              "      <th>required_car_parking_spaces</th>\n",
              "      <th>total_of_special_requests</th>\n",
              "      <th>reservation_status</th>\n",
              "      <th>reservation_status_date</th>\n",
              "    </tr>\n",
              "  </thead>\n",
              "  <tbody>\n",
              "    <tr>\n",
              "      <th>0</th>\n",
              "      <td>Resort Hotel</td>\n",
              "      <td>0</td>\n",
              "      <td>342</td>\n",
              "      <td>2015</td>\n",
              "      <td>July</td>\n",
              "      <td>27</td>\n",
              "      <td>1</td>\n",
              "      <td>0</td>\n",
              "      <td>0</td>\n",
              "      <td>2</td>\n",
              "      <td>0.0</td>\n",
              "      <td>0</td>\n",
              "      <td>BB</td>\n",
              "      <td>PRT</td>\n",
              "      <td>Direct</td>\n",
              "      <td>Direct</td>\n",
              "      <td>0</td>\n",
              "      <td>0</td>\n",
              "      <td>0</td>\n",
              "      <td>C</td>\n",
              "      <td>C</td>\n",
              "      <td>3</td>\n",
              "      <td>No Deposit</td>\n",
              "      <td>NaN</td>\n",
              "      <td>NaN</td>\n",
              "      <td>0</td>\n",
              "      <td>Transient</td>\n",
              "      <td>0.0</td>\n",
              "      <td>0</td>\n",
              "      <td>0</td>\n",
              "      <td>Check-Out</td>\n",
              "      <td>2015-07-01</td>\n",
              "    </tr>\n",
              "    <tr>\n",
              "      <th>1</th>\n",
              "      <td>Resort Hotel</td>\n",
              "      <td>0</td>\n",
              "      <td>737</td>\n",
              "      <td>2015</td>\n",
              "      <td>July</td>\n",
              "      <td>27</td>\n",
              "      <td>1</td>\n",
              "      <td>0</td>\n",
              "      <td>0</td>\n",
              "      <td>2</td>\n",
              "      <td>0.0</td>\n",
              "      <td>0</td>\n",
              "      <td>BB</td>\n",
              "      <td>PRT</td>\n",
              "      <td>Direct</td>\n",
              "      <td>Direct</td>\n",
              "      <td>0</td>\n",
              "      <td>0</td>\n",
              "      <td>0</td>\n",
              "      <td>C</td>\n",
              "      <td>C</td>\n",
              "      <td>4</td>\n",
              "      <td>No Deposit</td>\n",
              "      <td>NaN</td>\n",
              "      <td>NaN</td>\n",
              "      <td>0</td>\n",
              "      <td>Transient</td>\n",
              "      <td>0.0</td>\n",
              "      <td>0</td>\n",
              "      <td>0</td>\n",
              "      <td>Check-Out</td>\n",
              "      <td>2015-07-01</td>\n",
              "    </tr>\n",
              "    <tr>\n",
              "      <th>2</th>\n",
              "      <td>Resort Hotel</td>\n",
              "      <td>0</td>\n",
              "      <td>7</td>\n",
              "      <td>2015</td>\n",
              "      <td>July</td>\n",
              "      <td>27</td>\n",
              "      <td>1</td>\n",
              "      <td>0</td>\n",
              "      <td>1</td>\n",
              "      <td>1</td>\n",
              "      <td>0.0</td>\n",
              "      <td>0</td>\n",
              "      <td>BB</td>\n",
              "      <td>GBR</td>\n",
              "      <td>Direct</td>\n",
              "      <td>Direct</td>\n",
              "      <td>0</td>\n",
              "      <td>0</td>\n",
              "      <td>0</td>\n",
              "      <td>A</td>\n",
              "      <td>C</td>\n",
              "      <td>0</td>\n",
              "      <td>No Deposit</td>\n",
              "      <td>NaN</td>\n",
              "      <td>NaN</td>\n",
              "      <td>0</td>\n",
              "      <td>Transient</td>\n",
              "      <td>75.0</td>\n",
              "      <td>0</td>\n",
              "      <td>0</td>\n",
              "      <td>Check-Out</td>\n",
              "      <td>2015-07-02</td>\n",
              "    </tr>\n",
              "    <tr>\n",
              "      <th>3</th>\n",
              "      <td>Resort Hotel</td>\n",
              "      <td>0</td>\n",
              "      <td>13</td>\n",
              "      <td>2015</td>\n",
              "      <td>July</td>\n",
              "      <td>27</td>\n",
              "      <td>1</td>\n",
              "      <td>0</td>\n",
              "      <td>1</td>\n",
              "      <td>1</td>\n",
              "      <td>0.0</td>\n",
              "      <td>0</td>\n",
              "      <td>BB</td>\n",
              "      <td>GBR</td>\n",
              "      <td>Corporate</td>\n",
              "      <td>Corporate</td>\n",
              "      <td>0</td>\n",
              "      <td>0</td>\n",
              "      <td>0</td>\n",
              "      <td>A</td>\n",
              "      <td>A</td>\n",
              "      <td>0</td>\n",
              "      <td>No Deposit</td>\n",
              "      <td>304.0</td>\n",
              "      <td>NaN</td>\n",
              "      <td>0</td>\n",
              "      <td>Transient</td>\n",
              "      <td>75.0</td>\n",
              "      <td>0</td>\n",
              "      <td>0</td>\n",
              "      <td>Check-Out</td>\n",
              "      <td>2015-07-02</td>\n",
              "    </tr>\n",
              "    <tr>\n",
              "      <th>4</th>\n",
              "      <td>Resort Hotel</td>\n",
              "      <td>0</td>\n",
              "      <td>14</td>\n",
              "      <td>2015</td>\n",
              "      <td>July</td>\n",
              "      <td>27</td>\n",
              "      <td>1</td>\n",
              "      <td>0</td>\n",
              "      <td>2</td>\n",
              "      <td>2</td>\n",
              "      <td>0.0</td>\n",
              "      <td>0</td>\n",
              "      <td>BB</td>\n",
              "      <td>GBR</td>\n",
              "      <td>Online TA</td>\n",
              "      <td>TA/TO</td>\n",
              "      <td>0</td>\n",
              "      <td>0</td>\n",
              "      <td>0</td>\n",
              "      <td>A</td>\n",
              "      <td>A</td>\n",
              "      <td>0</td>\n",
              "      <td>No Deposit</td>\n",
              "      <td>240.0</td>\n",
              "      <td>NaN</td>\n",
              "      <td>0</td>\n",
              "      <td>Transient</td>\n",
              "      <td>98.0</td>\n",
              "      <td>0</td>\n",
              "      <td>1</td>\n",
              "      <td>Check-Out</td>\n",
              "      <td>2015-07-03</td>\n",
              "    </tr>\n",
              "  </tbody>\n",
              "</table>\n",
              "</div>"
            ],
            "text/plain": [
              "          hotel  is_canceled  ...  reservation_status  reservation_status_date\n",
              "0  Resort Hotel            0  ...           Check-Out               2015-07-01\n",
              "1  Resort Hotel            0  ...           Check-Out               2015-07-01\n",
              "2  Resort Hotel            0  ...           Check-Out               2015-07-02\n",
              "3  Resort Hotel            0  ...           Check-Out               2015-07-02\n",
              "4  Resort Hotel            0  ...           Check-Out               2015-07-03\n",
              "\n",
              "[5 rows x 32 columns]"
            ]
          },
          "metadata": {},
          "execution_count": 2
        }
      ]
    },
    {
      "cell_type": "markdown",
      "metadata": {
        "id": "LuRrFNEC1bgv"
      },
      "source": [
        "# Data cleanning and first exploring"
      ]
    },
    {
      "cell_type": "code",
      "metadata": {
        "colab": {
          "base_uri": "https://localhost:8080/"
        },
        "id": "mN81nvuH1ebz",
        "outputId": "b08aed73-5ebd-4f8c-af4a-30b2a14fb7d9"
      },
      "source": [
        "df.info()"
      ],
      "execution_count": 3,
      "outputs": [
        {
          "output_type": "stream",
          "name": "stdout",
          "text": [
            "<class 'pandas.core.frame.DataFrame'>\n",
            "RangeIndex: 119390 entries, 0 to 119389\n",
            "Data columns (total 32 columns):\n",
            " #   Column                          Non-Null Count   Dtype  \n",
            "---  ------                          --------------   -----  \n",
            " 0   hotel                           119390 non-null  object \n",
            " 1   is_canceled                     119390 non-null  int64  \n",
            " 2   lead_time                       119390 non-null  int64  \n",
            " 3   arrival_date_year               119390 non-null  int64  \n",
            " 4   arrival_date_month              119390 non-null  object \n",
            " 5   arrival_date_week_number        119390 non-null  int64  \n",
            " 6   arrival_date_day_of_month       119390 non-null  int64  \n",
            " 7   stays_in_weekend_nights         119390 non-null  int64  \n",
            " 8   stays_in_week_nights            119390 non-null  int64  \n",
            " 9   adults                          119390 non-null  int64  \n",
            " 10  children                        119386 non-null  float64\n",
            " 11  babies                          119390 non-null  int64  \n",
            " 12  meal                            119390 non-null  object \n",
            " 13  country                         118902 non-null  object \n",
            " 14  market_segment                  119390 non-null  object \n",
            " 15  distribution_channel            119390 non-null  object \n",
            " 16  is_repeated_guest               119390 non-null  int64  \n",
            " 17  previous_cancellations          119390 non-null  int64  \n",
            " 18  previous_bookings_not_canceled  119390 non-null  int64  \n",
            " 19  reserved_room_type              119390 non-null  object \n",
            " 20  assigned_room_type              119390 non-null  object \n",
            " 21  booking_changes                 119390 non-null  int64  \n",
            " 22  deposit_type                    119390 non-null  object \n",
            " 23  agent                           103050 non-null  float64\n",
            " 24  company                         6797 non-null    float64\n",
            " 25  days_in_waiting_list            119390 non-null  int64  \n",
            " 26  customer_type                   119390 non-null  object \n",
            " 27  adr                             119390 non-null  float64\n",
            " 28  required_car_parking_spaces     119390 non-null  int64  \n",
            " 29  total_of_special_requests       119390 non-null  int64  \n",
            " 30  reservation_status              119390 non-null  object \n",
            " 31  reservation_status_date         119390 non-null  object \n",
            "dtypes: float64(4), int64(16), object(12)\n",
            "memory usage: 29.1+ MB\n"
          ]
        }
      ]
    },
    {
      "cell_type": "markdown",
      "metadata": {
        "id": "wKKeSnVc2D0R"
      },
      "source": [
        "### As we can see, there is some null values. Let's fix it. "
      ]
    },
    {
      "cell_type": "code",
      "metadata": {
        "colab": {
          "base_uri": "https://localhost:8080/"
        },
        "id": "uwWtAa_32VAV",
        "outputId": "86e40e7a-8f70-4756-bc4e-13c8f3cd7d7f"
      },
      "source": [
        "df.isnull().sum()[df.isnull().sum() > 0]*100/len(df)"
      ],
      "execution_count": 4,
      "outputs": [
        {
          "output_type": "execute_result",
          "data": {
            "text/plain": [
              "children     0.003350\n",
              "country      0.408744\n",
              "agent       13.686238\n",
              "company     94.306893\n",
              "dtype: float64"
            ]
          },
          "metadata": {},
          "execution_count": 4
        }
      ]
    },
    {
      "cell_type": "code",
      "metadata": {
        "id": "wRZ271EE52vh"
      },
      "source": [
        "#fist of all, let's create a copy of the dataset to work\n",
        "\n",
        "hotel_data = df"
      ],
      "execution_count": 5,
      "outputs": []
    },
    {
      "cell_type": "markdown",
      "metadata": {
        "id": "DKEbkuRW2rdD"
      },
      "source": [
        "Missing values: \n",
        "\n",
        "- For those columns that the amount of missing values are bellow of 1%, let's just drop them. \n",
        "\n",
        "- Consireding \"company\" there a lot of missing values, I think it will better \n",
        "to drop this column. \n",
        "\n",
        "- Agent [ID of the travel agency that made the booking] at this case, considering that this data is significantly filled, one thing that is possible to do is to fill all of them by the mode. "
      ]
    },
    {
      "cell_type": "code",
      "metadata": {
        "id": "NkEsT4z85E7A"
      },
      "source": [
        "# for childern and country\n",
        "\n",
        "hotel_data.dropna(subset = ['children', 'country'], inplace = True)"
      ],
      "execution_count": 6,
      "outputs": []
    },
    {
      "cell_type": "code",
      "metadata": {
        "id": "XIxS7ipl5K72"
      },
      "source": [
        "# for company\n",
        "\n",
        "hotel_data.drop('company', axis = 1, inplace = True)"
      ],
      "execution_count": 7,
      "outputs": []
    },
    {
      "cell_type": "code",
      "metadata": {
        "colab": {
          "base_uri": "https://localhost:8080/"
        },
        "id": "A1wtfsvH3MHN",
        "outputId": "8934fd6d-0876-4936-e174-ebdb2f51ebe8"
      },
      "source": [
        "# for agent\n",
        "hotel_data['agent'].value_counts()"
      ],
      "execution_count": 8,
      "outputs": [
        {
          "output_type": "execute_result",
          "data": {
            "text/plain": [
              "9.0      31959\n",
              "240.0    13871\n",
              "1.0       7191\n",
              "14.0      3638\n",
              "7.0       3539\n",
              "         ...  \n",
              "197.0        1\n",
              "450.0        1\n",
              "352.0        1\n",
              "367.0        1\n",
              "346.0        1\n",
              "Name: agent, Length: 332, dtype: int64"
            ]
          },
          "metadata": {},
          "execution_count": 8
        }
      ]
    },
    {
      "cell_type": "code",
      "metadata": {
        "id": "jSGHLviS5Ees"
      },
      "source": [
        "df['agent'].fillna(float(9.0), inplace=True)\n",
        "\n",
        "#I could just run the following cade like (data['agent'].fillna(float(data['agent'].mode()), inplace=True)) but I prefer to check if there is other values as frequent as the mode first."
      ],
      "execution_count": 9,
      "outputs": []
    },
    {
      "cell_type": "code",
      "metadata": {
        "colab": {
          "base_uri": "https://localhost:8080/"
        },
        "id": "VaEBRkAk6m6_",
        "outputId": "3465471b-8485-4c06-ae7d-4ac71fb95363"
      },
      "source": [
        "#If I dind't anything wrong, it should be zero\n",
        "hotel_data.isnull().sum().sum()"
      ],
      "execution_count": 10,
      "outputs": [
        {
          "output_type": "execute_result",
          "data": {
            "text/plain": [
              "0"
            ]
          },
          "metadata": {},
          "execution_count": 10
        }
      ]
    },
    {
      "cell_type": "code",
      "metadata": {
        "id": "BGF25qrVOMDB"
      },
      "source": [
        "d = {'January':1, 'February':2, 'March':3, 'April':4, 'May':5, 'June':6, 'July':7, 'August':8, 'September':9, 'October':10, 'November':11, 'December':12}\n",
        "df['arrival_date_month_num'] = df['arrival_date_month'].map(d)"
      ],
      "execution_count": 11,
      "outputs": []
    },
    {
      "cell_type": "markdown",
      "metadata": {
        "id": "fQb5BXuo96Cg"
      },
      "source": [
        "#Data Viz and Exploring"
      ]
    },
    {
      "cell_type": "markdown",
      "metadata": {
        "id": "Mhusi4FyAXtL"
      },
      "source": [
        "I'm not a big fan of getting some dataset and starting to analyze it without any background or business question to consider. \n",
        "\n",
        "I don't think in the real-life people just throw data into your face and say \"analyze it!\" hahaha. \n",
        "\n",
        "Just let's create some situations of here:  \n",
        "\n",
        "- I'm was hired to manage a hotel and but, as I came from a totally different area, I not so close to the hotel's market.\n",
        "- I asked for my Data Team to present some KPI's to let me know the biggest struggles of this area"
      ]
    },
    {
      "cell_type": "code",
      "metadata": {
        "colab": {
          "base_uri": "https://localhost:8080/"
        },
        "id": "RTUdo8fvRNm6",
        "outputId": "98eff223-6258-4beb-80de-ed6faf003c19"
      },
      "source": [
        "hotel_data.info()"
      ],
      "execution_count": 25,
      "outputs": [
        {
          "output_type": "stream",
          "name": "stdout",
          "text": [
            "<class 'pandas.core.frame.DataFrame'>\n",
            "Int64Index: 118898 entries, 0 to 119389\n",
            "Data columns (total 32 columns):\n",
            " #   Column                          Non-Null Count   Dtype  \n",
            "---  ------                          --------------   -----  \n",
            " 0   hotel                           118898 non-null  object \n",
            " 1   is_canceled                     118898 non-null  int64  \n",
            " 2   lead_time                       118898 non-null  int64  \n",
            " 3   arrival_date_year               118898 non-null  int64  \n",
            " 4   arrival_date_month              118898 non-null  object \n",
            " 5   arrival_date_week_number        118898 non-null  int64  \n",
            " 6   arrival_date_day_of_month       118898 non-null  int64  \n",
            " 7   stays_in_weekend_nights         118898 non-null  int64  \n",
            " 8   stays_in_week_nights            118898 non-null  int64  \n",
            " 9   adults                          118898 non-null  int64  \n",
            " 10  children                        118898 non-null  float64\n",
            " 11  babies                          118898 non-null  int64  \n",
            " 12  meal                            118898 non-null  object \n",
            " 13  country                         118898 non-null  object \n",
            " 14  market_segment                  118898 non-null  object \n",
            " 15  distribution_channel            118898 non-null  object \n",
            " 16  is_repeated_guest               118898 non-null  int64  \n",
            " 17  previous_cancellations          118898 non-null  int64  \n",
            " 18  previous_bookings_not_canceled  118898 non-null  int64  \n",
            " 19  reserved_room_type              118898 non-null  object \n",
            " 20  assigned_room_type              118898 non-null  object \n",
            " 21  booking_changes                 118898 non-null  int64  \n",
            " 22  deposit_type                    118898 non-null  object \n",
            " 23  agent                           118898 non-null  float64\n",
            " 24  days_in_waiting_list            118898 non-null  int64  \n",
            " 25  customer_type                   118898 non-null  object \n",
            " 26  adr                             118898 non-null  float64\n",
            " 27  required_car_parking_spaces     118898 non-null  int64  \n",
            " 28  total_of_special_requests       118898 non-null  int64  \n",
            " 29  reservation_status              118898 non-null  object \n",
            " 30  reservation_status_date         118898 non-null  object \n",
            " 31  arrival_date_month_num          118898 non-null  int64  \n",
            "dtypes: float64(3), int64(17), object(12)\n",
            "memory usage: 29.9+ MB\n"
          ]
        }
      ]
    },
    {
      "cell_type": "code",
      "metadata": {
        "id": "JEAVaUAq-Eh_"
      },
      "source": [
        "#first lets separate the orders completed and orders that was cancelled.\n",
        "order_not_canceled = hotel_data[hotel_data['is_canceled'] == 0]\n",
        "order_canceled = hotel_data[hotel_data['is_canceled'] == 1]"
      ],
      "execution_count": 13,
      "outputs": []
    },
    {
      "cell_type": "markdown",
      "metadata": {
        "id": "1-7aO4TdfFgq"
      },
      "source": [
        "Which is the most ordered place to reverse? Most of the reservations is focused on City Hotels\n"
      ]
    },
    {
      "cell_type": "code",
      "metadata": {
        "colab": {
          "base_uri": "https://localhost:8080/",
          "height": 283
        },
        "id": "xAnuOV3KSw9s",
        "outputId": "f39378ff-2585-4e64-ac7b-b4e31920446b"
      },
      "source": [
        "order_not_canceled['hotel'].value_counts().plot(kind='barh')"
      ],
      "execution_count": 14,
      "outputs": [
        {
          "output_type": "execute_result",
          "data": {
            "text/plain": [
              "<matplotlib.axes._subplots.AxesSubplot at 0x7fa95de5ad50>"
            ]
          },
          "metadata": {},
          "execution_count": 14
        },
        {
          "output_type": "display_data",
          "data": {
            "image/png": "[encoded data removed]",
            "text/plain": [
              "<Figure size 432x288 with 1 Axes>"
            ]
          },
          "metadata": {
            "needs_background": "light"
          }
        }
      ]
    },
    {
      "cell_type": "markdown",
      "metadata": {
        "id": "NV-tkaUIfAsf"
      },
      "source": [
        "Which is the most demand by week of the year? We can see the demand trend to start to growth around week 25 and reach the max at week 32. Which is between the middle of Jun and Agoust. The commum period of vacations. \n"
      ]
    },
    {
      "cell_type": "code",
      "metadata": {
        "colab": {
          "base_uri": "https://localhost:8080/",
          "height": 298
        },
        "id": "7Q-DZh2zavmV",
        "outputId": "b64e82fc-11e2-4f3c-b8e7-c0700cc883e4"
      },
      "source": [
        "table2 = order_not_canceled.groupby(by=['arrival_date_week_number']).size().reset_index(name='counts')\n",
        "table2.plot.line(x='arrival_date_week_number', y='counts')\n",
        "#sns.lineplot(data=table2.sort_values('arrival_date_year'), x=\"arrival_date_year\", y=\"counts\")"
      ],
      "execution_count": 44,
      "outputs": [
        {
          "output_type": "execute_result",
          "data": {
            "text/plain": [
              "<matplotlib.axes._subplots.AxesSubplot at 0x7fa95838b0d0>"
            ]
          },
          "metadata": {},
          "execution_count": 44
        },
        {
          "output_type": "display_data",
          "data": {
            "image/png": "[encoded data removed]",
            "text/plain": [
              "<Figure size 432x288 with 1 Axes>"
            ]
          },
          "metadata": {
            "needs_background": "light"
          }
        }
      ]
    },
    {
      "cell_type": "code",
      "metadata": {
        "colab": {
          "base_uri": "https://localhost:8080/",
          "height": 411
        },
        "id": "qKUbsSYLL75M",
        "outputId": "ed5cf555-5e25-49f1-e63d-8fa3f3f702cd"
      },
      "source": [
        "table3 = order_not_canceled.groupby(['arrival_date_month_num', 'arrival_date_year'])[['adults', 'children']].sum()\n",
        "table3.sort_values(['arrival_date_year','arrival_date_month_num']).plot.bar(figsize = (15, 5))\n",
        "\n",
        "plt.ylabel('Number of guests by adults/children')\n",
        "plt.title('Adults/Children by Month, Year')"
      ],
      "execution_count": 24,
      "outputs": [
        {
          "output_type": "execute_result",
          "data": {
            "text/plain": [
              "Text(0.5, 1.0, 'Adults/Children by Month, Year')"
            ]
          },
          "metadata": {},
          "execution_count": 24
        },
        {
          "output_type": "display_data",
          "data": {
            "image/png": "[encoded data removed]",
            "text/plain": [
              "<Figure size 1080x360 with 1 Axes>"
            ]
          },
          "metadata": {
            "needs_background": "light"
          }
        }
      ]
    },
    {
      "cell_type": "markdown",
      "metadata": {
        "id": "9NsmmcF5P2uA"
      },
      "source": [
        "This chart show us that the trend of hotels be crowded at Jun and Agoust is been seeing at 2016 and 2017. Also, We can see that the number of childers increased a lot at this mounths. Which may impact the amount of resourses that we should allocate for children zones like playgrounds and monitors to keep they entreteniment. "
      ]
    },
    {
      "cell_type": "code",
      "metadata": {
        "colab": {
          "base_uri": "https://localhost:8080/",
          "height": 395
        },
        "id": "9YJ9k11PMAZg",
        "outputId": "4b676b7b-db8f-46f6-b208-b53eb0684971"
      },
      "source": [
        "table4 = order_not_canceled.groupby(['arrival_date_month_num', 'arrival_date_year'])[['total_of_special_requests']].sum()\n",
        "table4.sort_values(['arrival_date_year','arrival_date_month_num']).plot.bar(figsize = (15, 5))\n"
      ],
      "execution_count": 50,
      "outputs": [
        {
          "output_type": "execute_result",
          "data": {
            "text/plain": [
              "<matplotlib.axes._subplots.AxesSubplot at 0x7fa9581f8e50>"
            ]
          },
          "metadata": {},
          "execution_count": 50
        },
        {
          "output_type": "display_data",
          "data": {
            "image/png": "[encoded data removed]",
            "text/plain": [
              "<Figure size 1080x360 with 1 Axes>"
            ]
          },
          "metadata": {
            "needs_background": "light"
          }
        }
      ]
    },
    {
      "cell_type": "markdown",
      "metadata": {
        "id": "vDas_TLDSwO-"
      },
      "source": [
        "This chart shows something it is logic which is that the amount of special requets trend to increase as the amount of guests increase. I decided to check it anyway because I thought that some sazonal periods may impacts the amount of especial requets. Maybe the best way to check it is to put the amount of reservations and special requets togheter at the same chart separeted by week. It will help us to compare both curves. "
      ]
    },
    {
      "cell_type": "code",
      "metadata": {
        "colab": {
          "base_uri": "https://localhost:8080/",
          "height": 298
        },
        "id": "CVcMni3kUBX1",
        "outputId": "7bb7becd-e9c4-4f64-81ac-047a229c885e"
      },
      "source": [
        "table5 = pd.pivot_table(order_not_canceled, values=['total_of_special_requests', 'hotel'], index=['arrival_date_week_number'], aggfunc={'total_of_special_requests': np.sum, 'hotel': 'count'})\n",
        "table5.reset_index()\n",
        "table5.plot.line(y=['hotel','total_of_special_requests'])"
      ],
      "execution_count": 54,
      "outputs": [
        {
          "output_type": "execute_result",
          "data": {
            "text/plain": [
              "<matplotlib.axes._subplots.AxesSubplot at 0x7fa95804d990>"
            ]
          },
          "metadata": {},
          "execution_count": 54
        },
        {
          "output_type": "display_data",
          "data": {
            "image/png": "[encoded data removed]",
            "text/plain": [
              "<Figure size 432x288 with 1 Axes>"
            ]
          },
          "metadata": {
            "needs_background": "light"
          }
        }
      ]
    },
    {
      "cell_type": "code",
      "metadata": {
        "id": "JahTuZtRYqCZ"
      },
      "source": [
        "As we can see, both curves looks following the same trend during the weeks of the year. What refuted my thoughts that some seasonal periods my impact the amount of special requests."
      ],
      "execution_count": null,
      "outputs": []
    }
  ]
}